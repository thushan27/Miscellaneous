{
 "cells": [
  {
   "cell_type": "code",
   "execution_count": 27,
   "metadata": {},
   "outputs": [],
   "source": [
    "\"\"\"\n",
    "Design a program that can play blackjack with yourself.\n",
    "\n",
    "Rules of this simplified blackjack:\n",
    "\n",
    "Compare the sums of the cards between Dealer vs Player\n",
    "If Player card sum is greater than 21 = BUST (Player loses)\n",
    "If Player card sum is less than 21 = Option Hit (draw a 3rd card) or Stay (keep your current 2 cards)\n",
    "If Player option Stay compare sum of Dealer vs Player\n",
    "If Player sum <= 21 and > Dealer sum then Player wins!\n",
    "\n",
    "\"\"\"\n",
    "def blackJack():\n",
    "        # use random package to generate random numbers between 1 and 11, where Ace is represented by 1 or 11, cards\n",
    "        # 2-10 are valued between 2-10 and Jack, Queen, King are represented by a score of 10.\n",
    "        \n",
    "        import random\n",
    "        \n",
    "        # dealing the cards out for the dealer\n",
    "        \n",
    "        dealer_cards = []\n",
    "        while len(dealer_cards) < 2:\n",
    "            dealer_cards.append(random.randint(1,11))\n",
    "        if len(dealer_cards) >= 2:\n",
    "            print(\"Dealer has X & \" + str(dealer_cards[1]))\n",
    "        \n",
    "        # dealing the cards out for the player\n",
    "        \n",
    "        player_cards = []\n",
    "        while len(player_cards) < 2:\n",
    "            player_cards.append(random.randint(1,11))\n",
    "        if len(player_cards) >= 2:\n",
    "            print(\"Player has \" + str(player_cards))   \n",
    "        \n",
    "        # conditions for if players hand sums to less than 21\n",
    "        \n",
    "        while sum(player_cards) < 21:\n",
    "            action_taken = input(\"Do you want to stay or hit? \")\n",
    "            if action_taken == \"hit\":\n",
    "                player_cards.append(random.randint(1,11))\n",
    "                print(\"You now have a score of \" + str(sum(player_cards)) + \" from \" + str(player_cards))\n",
    "                print(\"The dealer has X & \" + str(dealer_cards[1]))\n",
    "            else:\n",
    "                print(\"The dealer has X & \" + str(dealer_cards[1]))\n",
    "                print(\"You now have a score of \" + str(sum(player_cards)) + \" from \" + str(player_cards))\n",
    "                break\n",
    "                \n",
    "        # Comparing player and dealers hand to see who wins\n",
    "            \n",
    "        if sum(player_cards)>sum(dealer_cards) and sum(player_cards) <= 21:\n",
    "            print(\"Your final score is \" + str(sum(player_cards)) + \" from \" + str(player_cards))\n",
    "            print(\"The dealer's score is '\" + str(sum(dealer_cards)) + \" from \" + str(dealer_cards))\n",
    "            print(\"Player wins\")\n",
    "        else:\n",
    "            print(\"Your final score is \" + str(sum(player_cards)) + \" from \" + str(player_cards))\n",
    "            print(\"The dealer's score is \" + str(sum(dealer_cards)) + \" from \" + str(dealer_cards))\n",
    "            print(\"Dealer wins\")"
   ]
  },
  {
   "cell_type": "code",
   "execution_count": 28,
   "metadata": {},
   "outputs": [
    {
     "name": "stdout",
     "output_type": "stream",
     "text": [
      "Dealer has X & 3\n",
      "Player has [11, 5]\n",
      "Do you want to stay or hit? hit\n",
      "You now have a score of 25 from [11, 5, 9]\n",
      "The dealer has X & 3\n",
      "Your final score is 25 from [11, 5, 9]\n",
      "The dealer's score is 9 from [6, 3]\n",
      "Dealer wins\n"
     ]
    }
   ],
   "source": [
    "blackJack()"
   ]
  },
  {
   "cell_type": "code",
   "execution_count": 30,
   "metadata": {},
   "outputs": [
    {
     "name": "stdout",
     "output_type": "stream",
     "text": [
      "Dealer has X & 9\n",
      "Player has [9, 4]\n",
      "Do you want to stay or hit? hit\n",
      "You now have a score of 21 from [9, 4, 8]\n",
      "The dealer has X & 9\n",
      "Your final score is 21 from [9, 4, 8]\n",
      "The dealer's score is '13 from [4, 9]\n",
      "Player wins\n"
     ]
    }
   ],
   "source": [
    "blackJack()"
   ]
  },
  {
   "cell_type": "code",
   "execution_count": null,
   "metadata": {},
   "outputs": [],
   "source": []
  }
 ],
 "metadata": {
  "kernelspec": {
   "display_name": "Python 3",
   "language": "python",
   "name": "python3"
  },
  "language_info": {
   "codemirror_mode": {
    "name": "ipython",
    "version": 3
   },
   "file_extension": ".py",
   "mimetype": "text/x-python",
   "name": "python",
   "nbconvert_exporter": "python",
   "pygments_lexer": "ipython3",
   "version": "3.7.3"
  }
 },
 "nbformat": 4,
 "nbformat_minor": 2
}
