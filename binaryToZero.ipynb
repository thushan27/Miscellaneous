{
 "cells": [
  {
   "cell_type": "code",
   "execution_count": 1,
   "metadata": {},
   "outputs": [],
   "source": [
    "\"\"\"Write a function that takes a binary string, and count how many steps it takes to become 0 following these \n",
    "operations: if number is odd, subtract 1 from it, if even, divide it by 2. For example 011100 is binary \n",
    "representation of 28. 28 follows the operation 7 times until it becomes 0. \"\"\"\n",
    "\n",
    "# will convert string binary to int digit\n",
    "def binaryToDigit(S):\n",
    "    return int(S,2)\n",
    "\n",
    "# applying operations to digit until zero\n",
    "def convertUntilZero(V):\n",
    "    count = 0\n",
    "    while V != 0:\n",
    "        if V%2 == 0:\n",
    "            V = V/2\n",
    "            count = count + 1\n",
    "        elif V%2 ==1:\n",
    "            V = V - 1\n",
    "            count = count + 1\n",
    "    return count\n",
    "\n",
    "# function uses previous 2 functions\n",
    "def binaryToZero(S):\n",
    "    return convertUntilZero(binaryToDigit(S))"
   ]
  },
  {
   "cell_type": "code",
   "execution_count": 2,
   "metadata": {},
   "outputs": [
    {
     "data": {
      "text/plain": [
       "7"
      ]
     },
     "execution_count": 2,
     "metadata": {},
     "output_type": "execute_result"
    }
   ],
   "source": [
    "binaryToZero(\"011100\")"
   ]
  },
  {
   "cell_type": "code",
   "execution_count": null,
   "metadata": {},
   "outputs": [],
   "source": []
  }
 ],
 "metadata": {
  "kernelspec": {
   "display_name": "Python 3",
   "language": "python",
   "name": "python3"
  },
  "language_info": {
   "codemirror_mode": {
    "name": "ipython",
    "version": 3
   },
   "file_extension": ".py",
   "mimetype": "text/x-python",
   "name": "python",
   "nbconvert_exporter": "python",
   "pygments_lexer": "ipython3",
   "version": "3.7.3"
  }
 },
 "nbformat": 4,
 "nbformat_minor": 2
}
