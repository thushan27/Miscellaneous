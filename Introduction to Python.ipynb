{
 "cells": [
  {
   "cell_type": "code",
   "execution_count": 1,
   "metadata": {},
   "outputs": [
    {
     "name": "stdout",
     "output_type": "stream",
     "text": [
      "please enter the value100\n"
     ]
    }
   ],
   "source": [
    "input_var = input(\"please enter the value\")"
   ]
  },
  {
   "cell_type": "code",
   "execution_count": 2,
   "metadata": {},
   "outputs": [
    {
     "name": "stdout",
     "output_type": "stream",
     "text": [
      "please enter the value100\n",
      "100\n"
     ]
    }
   ],
   "source": [
    "input_var = input(\"please enter the value\")\n",
    "print(input_var)"
   ]
  },
  {
   "cell_type": "code",
   "execution_count": 7,
   "metadata": {},
   "outputs": [
    {
     "name": "stdout",
     "output_type": "stream",
     "text": [
      "infy 20.27 10 ; "
     ]
    }
   ],
   "source": [
    "a = \"infy\"\n",
    "b = 20.27\n",
    "c = 10\n",
    "print(a,b,c, end = \" ; \")"
   ]
  },
  {
   "cell_type": "code",
   "execution_count": 8,
   "metadata": {},
   "outputs": [
    {
     "data": {
      "text/plain": [
       "False"
      ]
     },
     "execution_count": 8,
     "metadata": {},
     "output_type": "execute_result"
    }
   ],
   "source": [
    "not(1==1 or 0==1)"
   ]
  },
  {
   "cell_type": "code",
   "execution_count": 10,
   "metadata": {},
   "outputs": [
    {
     "name": "stdout",
     "output_type": "stream",
     "text": [
      "8.25\n"
     ]
    }
   ],
   "source": [
    "num1 = 50\n",
    "num2 = 2\n",
    "num3 = 3\n",
    "num4 = 8\n",
    "result = num1/num4 - num3*num2 + num4\n",
    "print(result)"
   ]
  },
  {
   "cell_type": "code",
   "execution_count": 11,
   "metadata": {},
   "outputs": [
    {
     "data": {
      "text/plain": [
       "5"
      ]
     },
     "execution_count": 11,
     "metadata": {},
     "output_type": "execute_result"
    }
   ],
   "source": [
    "5%6"
   ]
  },
  {
   "cell_type": "code",
   "execution_count": 48,
   "metadata": {},
   "outputs": [
    {
     "name": "stdout",
     "output_type": "stream",
     "text": [
      "Invalid\n"
     ]
    }
   ],
   "source": [
    "'''\n",
    "Control Structures in Python Exercise 1\n",
    "'''\n",
    "\n",
    "number = 8\n",
    "\n",
    "if(number % 3 == 0 and number % 5 == 0):\n",
    "    print(\"Zoom\")\n",
    "elif(number%3 == 0):\n",
    "    print(\"Zip\")\n",
    "elif(number%5 == 0):\n",
    "    print(\"Zap\")\n",
    "else:\n",
    "    print(\"Invalid\")\n",
    "    "
   ]
  },
  {
   "cell_type": "code",
   "execution_count": 46,
   "metadata": {},
   "outputs": [
    {
     "name": "stdout",
     "output_type": "stream",
     "text": [
      "6\n"
     ]
    }
   ],
   "source": [
    "'''\n",
    "Control Structures in Python Exercise 2\n",
    "'''\n",
    "\n",
    "number = 123\n",
    "sum = 0\n",
    "for i in range(0,len(str(number)),1):\n",
    "    sum = sum + int(str(number)[i])\n",
    "print(sum)\n"
   ]
  },
  {
   "cell_type": "code",
   "execution_count": 47,
   "metadata": {},
   "outputs": [
    {
     "name": "stdout",
     "output_type": "stream",
     "text": [
      "1\n",
      "3\n",
      "5\n",
      "7\n",
      "9\n"
     ]
    }
   ],
   "source": [
    "num=10\n",
    "count=0\n",
    "while(count <= num):\n",
    "    if(count%2 == 0):\n",
    "        pass\n",
    "    else:\n",
    "        print(count)\n",
    "    count+=1\n",
    "    "
   ]
  },
  {
   "cell_type": "code",
   "execution_count": 45,
   "metadata": {},
   "outputs": [
    {
     "name": "stdout",
     "output_type": "stream",
     "text": [
      "This is not a leap year\n"
     ]
    }
   ],
   "source": [
    "'''\n",
    "Control Structures in Python Exercise 3\n",
    "'''\n",
    "\n",
    "'''Write a Python program to check whether the given year is leap year or not.'''\n",
    "\n",
    "leapYear = 2100\n",
    "\n",
    "if(leapYear % 400) == 0:\n",
    "    print(\"This is a leap year\")\n",
    "elif(leapYear % 100 == 0):\n",
    "    print(\"This is not a leap year\")\n",
    "elif(leapYear % 4 == 0):\n",
    "    print(\"This is a leap year\")\n",
    "else:\n",
    "    print(\"This is not a leap year\")\n",
    "    "
   ]
  },
  {
   "cell_type": "code",
   "execution_count": 44,
   "metadata": {},
   "outputs": [
    {
     "name": "stdout",
     "output_type": "stream",
     "text": [
      "The maximum number is:  3\n"
     ]
    }
   ],
   "source": [
    "'''Write a Python program to find and display the maximum of three given numbers.'''\n",
    "\n",
    "a = 3\n",
    "b = 3\n",
    "c = 3\n",
    "\n",
    "if(a >= b and a >= c):\n",
    "    print(\"The maximum number is: \",a)\n",
    "elif(b >= a and b >= c):\n",
    "    print(\"The maximum number is: \",b)\n",
    "elif(c >= a and c >= b):\n",
    "    print(\"The maximum number is: \",c)\n",
    "    "
   ]
  },
  {
   "cell_type": "code",
   "execution_count": 43,
   "metadata": {},
   "outputs": [
    {
     "name": "stdout",
     "output_type": "stream",
     "text": [
      "This is not a prime number\n"
     ]
    }
   ],
   "source": [
    "'''Write a Python program to check the given number is prime number or not.'''\n",
    "\n",
    "num = 6\n",
    "\n",
    "if num == 1:\n",
    "    print(\"This is not a prime number\")\n",
    "elif num > 1:\n",
    "    for i in range(2,num):\n",
    "        if (num % i) == 0:\n",
    "            print(\"This is not a prime number\")\n",
    "            break\n",
    "    else:\n",
    "        print(\"This is a prime number\")\n",
    "        "
   ]
  },
  {
   "cell_type": "code",
   "execution_count": 51,
   "metadata": {},
   "outputs": [
    {
     "data": {
      "text/plain": [
       "55"
      ]
     },
     "execution_count": 51,
     "metadata": {},
     "output_type": "execute_result"
    }
   ],
   "source": [
    "'''Write a Python program to print first n Fibonacci numbers.'''\n",
    "\n",
    "def fibonacci (n):\n",
    "    if n == 0:\n",
    "        return 0\n",
    "    elif n == 1:\n",
    "        return 1\n",
    "    else:\n",
    "        return fibonacci(n-1) + fibonacci(n-2)\n",
    "    \n",
    "fibonacci (10)"
   ]
  },
  {
   "cell_type": "code",
   "execution_count": 59,
   "metadata": {},
   "outputs": [
    {
     "name": "stdout",
     "output_type": "stream",
     "text": [
      "20000\n"
     ]
    }
   ],
   "source": [
    "'''Hike Percentage'''\n",
    "\n",
    "salary = 20000\n",
    "jobLevel = 7\n",
    "\n",
    "if(jobLevel == 3):\n",
    "    salary = salary*1.15\n",
    "elif(jobLevel == 4):\n",
    "    salary = salary*1.07\n",
    "elif(jobLevel == 5):\n",
    "    salary = salary*1.05\n",
    "else:\n",
    "    salary = salary\n",
    "    \n",
    "print(salary)"
   ]
  },
  {
   "cell_type": "code",
   "execution_count": 64,
   "metadata": {},
   "outputs": [
    {
     "name": "stdout",
     "output_type": "stream",
     "text": [
      "20.0\n"
     ]
    }
   ],
   "source": [
    "a = -10\n",
    "b = -200\n",
    "print(b/a)"
   ]
  },
  {
   "cell_type": "code",
   "execution_count": 69,
   "metadata": {},
   "outputs": [],
   "source": [
    "'''Functions in Python Exercise 1\n",
    "Write a python function, find_square() that accepts an integer number, n and returns the square of n. \n",
    "Invoke the function and display the square of the number. '''\n",
    "\n",
    "def find_square(n):\n",
    "    return n**2"
   ]
  },
  {
   "cell_type": "code",
   "execution_count": 70,
   "metadata": {},
   "outputs": [
    {
     "data": {
      "text/plain": [
       "16"
      ]
     },
     "execution_count": 70,
     "metadata": {},
     "output_type": "execute_result"
    }
   ],
   "source": [
    "find_square(4)"
   ]
  },
  {
   "cell_type": "code",
   "execution_count": 71,
   "metadata": {},
   "outputs": [],
   "source": [
    "'''Functions in Python Exercise 2\n",
    "Write a python function, find_sum() that accepts an integer, n and returns the sum of first, n numbers. \n",
    "Invoke the function and display the sum of first n numbers.'''\n",
    "\n",
    "def find_sum(n):\n",
    "    \n",
    "    sum = 0\n",
    "    for i in range(0,n+1):\n",
    "        sum = sum + i\n",
    "    \n",
    "    return sum"
   ]
  },
  {
   "cell_type": "code",
   "execution_count": 72,
   "metadata": {},
   "outputs": [
    {
     "data": {
      "text/plain": [
       "6"
      ]
     },
     "execution_count": 72,
     "metadata": {},
     "output_type": "execute_result"
    }
   ],
   "source": [
    "find_sum(3)"
   ]
  },
  {
   "cell_type": "code",
   "execution_count": 93,
   "metadata": {},
   "outputs": [],
   "source": [
    "'''Functions in Python Final Exercises\n",
    "\n",
    "Write a Python function check_amicable_numbers(num1, num2) that accepts two numbers num1 and num2 as arguments \n",
    "and returns True if the given pair of numbers are amicable numbers else return false. \n",
    "Invoke the function and based on return value print the numbers are amicable numbers or not.\n",
    "\n",
    "num1 and num2 are said to be amicable numbers if sum of all the proper devisors (except num1 itself) of num1 \n",
    "is equal to num2 and sum of all the proper devisors of num2 (except num1 itself) is equal to num1.\n",
    "\n",
    "'''\n",
    "\n",
    "def check_amicable_numbers(num1,num2):\n",
    "    \n",
    "    sum1 = 0\n",
    "    sum2 = 0\n",
    "    \n",
    "    for i in range(1,num1):\n",
    "        if num1 % i == 0:\n",
    "            sum1 = sum1 + i\n",
    "            \n",
    "    for i in range(1,num2):\n",
    "        if num2 % i == 0:\n",
    "            sum2 = sum2 + i\n",
    "    \n",
    "    if sum1 == num2 and sum2 == num1:\n",
    "        return True\n",
    "    else:\n",
    "        return False"
   ]
  },
  {
   "cell_type": "code",
   "execution_count": 94,
   "metadata": {},
   "outputs": [
    {
     "data": {
      "text/plain": [
       "True"
      ]
     },
     "execution_count": 94,
     "metadata": {},
     "output_type": "execute_result"
    }
   ],
   "source": [
    "check_amicable_numbers(220,284)"
   ]
  },
  {
   "cell_type": "code",
   "execution_count": 95,
   "metadata": {},
   "outputs": [
    {
     "data": {
      "text/plain": [
       "15"
      ]
     },
     "execution_count": 95,
     "metadata": {},
     "output_type": "execute_result"
    }
   ],
   "source": [
    "60 >> 2"
   ]
  },
  {
   "cell_type": "code",
   "execution_count": 96,
   "metadata": {},
   "outputs": [],
   "source": [
    "'''\n",
    "Write a Python function right_shift(num, n) that takes two numbers num and n as arguments and \n",
    "returns value of the integer num rotated to the right by n positions. Assume both the numbers are unsigned. \n",
    "Invoke the function and print the return value.\n",
    "'''\n",
    "\n",
    "def right_shift(num,n):\n",
    "    return num >> n"
   ]
  },
  {
   "cell_type": "code",
   "execution_count": 101,
   "metadata": {},
   "outputs": [
    {
     "name": "stdout",
     "output_type": "stream",
     "text": [
      "He\n"
     ]
    }
   ],
   "source": [
    "word = \"Hello\"\n",
    "word2 = word[:2]\n",
    "print(word2)"
   ]
  },
  {
   "cell_type": "code",
   "execution_count": 10,
   "metadata": {},
   "outputs": [],
   "source": [
    "'''\n",
    "Collections in Python Exercise\n",
    "\n",
    "Given a list of integer values. Write a python program to check whether it contains same number in adjacent position. \n",
    "Display the count of such adjacent occurrences.\n",
    "'''\n",
    "\n",
    "def adjacentOccurrences(list1):\n",
    "    \n",
    "    count = 0\n",
    "    \n",
    "    for i in range(0,len(list1)-1):\n",
    "        if list1[i] == list1[i+1]:\n",
    "            count = count + 1\n",
    "    \n",
    "    return count"
   ]
  },
  {
   "cell_type": "code",
   "execution_count": 12,
   "metadata": {},
   "outputs": [
    {
     "data": {
      "text/plain": [
       "3"
      ]
     },
     "execution_count": 12,
     "metadata": {},
     "output_type": "execute_result"
    }
   ],
   "source": [
    "list2 = [1,2,2,3,4,4,4,10]\n",
    "adjacentOccurrences(list2)"
   ]
  },
  {
   "cell_type": "code",
   "execution_count": 13,
   "metadata": {},
   "outputs": [],
   "source": [
    "'''\n",
    "Collections in Python Exercise \n",
    "\n",
    "Write a Python function proper_divisors(num) which returns a list of all the proper divisors of given number.\n",
    "'''\n",
    "\n",
    "def proper_divisors(num):\n",
    "    finalList = []\n",
    "    for i in range(1,num):\n",
    "        if num%i == 0:\n",
    "            finalList.append(i)\n",
    "    \n",
    "    return finalList\n"
   ]
  },
  {
   "cell_type": "code",
   "execution_count": 14,
   "metadata": {},
   "outputs": [
    {
     "data": {
      "text/plain": [
       "[1, 2, 4, 5, 10, 11, 20, 22, 44, 55, 110]"
      ]
     },
     "execution_count": 14,
     "metadata": {},
     "output_type": "execute_result"
    }
   ],
   "source": [
    "proper_divisors(220)"
   ]
  },
  {
   "cell_type": "code",
   "execution_count": 17,
   "metadata": {},
   "outputs": [],
   "source": [
    "'''\n",
    "Write a Python function generate_fibanacci(n) to return a list of first n Fibonacci numbers.\n",
    "'''\n",
    "def fibonacci (n):\n",
    "    if n == 0:\n",
    "        return 0\n",
    "    elif n == 1:\n",
    "        return 1\n",
    "    else:\n",
    "        return fibonacci(n-1) + fibonacci(n-2)\n",
    "    \n",
    "def generate_fibonacci(n):\n",
    "    finalList = []\n",
    "    \n",
    "    for i in range(0,n+1):\n",
    "        finalList.append(fibonacci(i))\n",
    "        \n",
    "    return finalList\n",
    "    \n",
    "    "
   ]
  },
  {
   "cell_type": "code",
   "execution_count": 18,
   "metadata": {},
   "outputs": [
    {
     "data": {
      "text/plain": [
       "[0, 1, 1, 2, 3, 5, 8, 13, 21, 34, 55]"
      ]
     },
     "execution_count": 18,
     "metadata": {},
     "output_type": "execute_result"
    }
   ],
   "source": [
    "generate_fibonacci(10)"
   ]
  },
  {
   "cell_type": "code",
   "execution_count": 36,
   "metadata": {},
   "outputs": [],
   "source": [
    "'''\n",
    "Write a Python program to generate the next 15 leap years starting from a given year. \n",
    "Populate the leap years into a list and display the list.\n",
    "'''\n",
    "\n",
    "def generate15LeapYears(year):\n",
    "    \n",
    "    finalList = []*15\n",
    "    initialYear = year\n",
    "    \n",
    "    while(len(finalList) < 15):\n",
    "        if(initialYear % 400) == 0:\n",
    "            finalList.append(initialYear)\n",
    "            initialYear+=1\n",
    "        elif(initialYear % 100 != 0 and initialYear % 4 == 0):\n",
    "            finalList.append(initialYear)\n",
    "            initialYear+=1\n",
    "        else:\n",
    "            initialYear+=1\n",
    "        \n",
    "    return finalList"
   ]
  },
  {
   "cell_type": "code",
   "execution_count": 37,
   "metadata": {},
   "outputs": [
    {
     "data": {
      "text/plain": [
       "[2000,\n",
       " 2004,\n",
       " 2008,\n",
       " 2012,\n",
       " 2016,\n",
       " 2020,\n",
       " 2024,\n",
       " 2028,\n",
       " 2032,\n",
       " 2036,\n",
       " 2040,\n",
       " 2044,\n",
       " 2048,\n",
       " 2052,\n",
       " 2056]"
      ]
     },
     "execution_count": 37,
     "metadata": {},
     "output_type": "execute_result"
    }
   ],
   "source": [
    "generate15LeapYears(2000)"
   ]
  },
  {
   "cell_type": "code",
   "execution_count": 60,
   "metadata": {},
   "outputs": [],
   "source": [
    "'''\n",
    "Write a python function, encrypt_sentence(msg)\n",
    "Words at odd position -> Reverse It\n",
    "\n",
    "Words at even position -> Rearrange the characters so that all consonants appear before the vowels \n",
    "and their order should not change\n",
    "'''\n",
    "\n",
    "def encrypt_sentence(msg):\n",
    "    \n",
    "    list1 = list(msg)\n",
    "    \n",
    "    for i in range(0,len(list1),2):\n",
    "        list[i] = list[i][::-1]\n"
   ]
  },
  {
   "cell_type": "code",
   "execution_count": 61,
   "metadata": {},
   "outputs": [
    {
     "ename": "TypeError",
     "evalue": "'type' object is not subscriptable",
     "output_type": "error",
     "traceback": [
      "\u001b[0;31m---------------------------------------------------------------------------\u001b[0m",
      "\u001b[0;31mTypeError\u001b[0m                                 Traceback (most recent call last)",
      "\u001b[0;32m<ipython-input-61-929f3b21ee40>\u001b[0m in \u001b[0;36m<module>\u001b[0;34m\u001b[0m\n\u001b[0;32m----> 1\u001b[0;31m \u001b[0mencrypt_sentence\u001b[0m\u001b[0;34m(\u001b[0m\u001b[0;34m\"hello world this is\"\u001b[0m\u001b[0;34m)\u001b[0m\u001b[0;34m\u001b[0m\u001b[0;34m\u001b[0m\u001b[0m\n\u001b[0m",
      "\u001b[0;32m<ipython-input-60-6e7817568a25>\u001b[0m in \u001b[0;36mencrypt_sentence\u001b[0;34m(msg)\u001b[0m\n\u001b[1;32m     12\u001b[0m \u001b[0;34m\u001b[0m\u001b[0m\n\u001b[1;32m     13\u001b[0m     \u001b[0;32mfor\u001b[0m \u001b[0mi\u001b[0m \u001b[0;32min\u001b[0m \u001b[0mrange\u001b[0m\u001b[0;34m(\u001b[0m\u001b[0;36m0\u001b[0m\u001b[0;34m,\u001b[0m\u001b[0mlen\u001b[0m\u001b[0;34m(\u001b[0m\u001b[0mlist1\u001b[0m\u001b[0;34m)\u001b[0m\u001b[0;34m,\u001b[0m\u001b[0;36m2\u001b[0m\u001b[0;34m)\u001b[0m\u001b[0;34m:\u001b[0m\u001b[0;34m\u001b[0m\u001b[0;34m\u001b[0m\u001b[0m\n\u001b[0;32m---> 14\u001b[0;31m         \u001b[0mlist\u001b[0m\u001b[0;34m[\u001b[0m\u001b[0mi\u001b[0m\u001b[0;34m]\u001b[0m \u001b[0;34m=\u001b[0m \u001b[0mlist\u001b[0m\u001b[0;34m[\u001b[0m\u001b[0mi\u001b[0m\u001b[0;34m]\u001b[0m\u001b[0;34m[\u001b[0m\u001b[0;34m:\u001b[0m\u001b[0;34m:\u001b[0m\u001b[0;34m-\u001b[0m\u001b[0;36m1\u001b[0m\u001b[0;34m]\u001b[0m\u001b[0;34m\u001b[0m\u001b[0;34m\u001b[0m\u001b[0m\n\u001b[0m",
      "\u001b[0;31mTypeError\u001b[0m: 'type' object is not subscriptable"
     ]
    }
   ],
   "source": [
    "encrypt_sentence(\"hello world this is\")"
   ]
  },
  {
   "cell_type": "code",
   "execution_count": 40,
   "metadata": {},
   "outputs": [
    {
     "data": {
      "text/plain": [
       "7"
      ]
     },
     "execution_count": 40,
     "metadata": {},
     "output_type": "execute_result"
    }
   ],
   "source": [
    "'''\n",
    "Write a Python program to find the number of characters present the given string.\n",
    "'''\n",
    "\n",
    "word1 = ' hello '\n",
    "len(word1)"
   ]
  },
  {
   "cell_type": "code",
   "execution_count": 5,
   "metadata": {},
   "outputs": [],
   "source": [
    "'''\n",
    "Write a Python program to find the numbers of words present in the given sentence.\n",
    "'''\n",
    "\n",
    "def numOfWords(sentence):\n",
    "    \n",
    "    count = 0\n",
    "    \n",
    "    for eachWord in sentence.split(\" \"):\n",
    "        count = count + 1\n",
    "        \n",
    "    return count"
   ]
  },
  {
   "cell_type": "code",
   "execution_count": 6,
   "metadata": {},
   "outputs": [
    {
     "data": {
      "text/plain": [
       "7"
      ]
     },
     "execution_count": 6,
     "metadata": {},
     "output_type": "execute_result"
    }
   ],
   "source": [
    "numOfWords(\"hello world this is t.raj the destroyer\")"
   ]
  },
  {
   "cell_type": "code",
   "execution_count": 41,
   "metadata": {},
   "outputs": [],
   "source": [
    "'''\n",
    "Write a Python function words_count(sentence) to return a dictionary with the length of words as key \n",
    "and number words with such length as value.\n",
    "'''\n",
    "def word_count(sentence):\n",
    "    \n",
    "    new_dict = {}\n",
    "    \n",
    "    listSentence = sentence.split()\n",
    "    \n",
    "    for eachWord in listSentence:\n",
    "        new_dict.update({eachWord : len(eachWord)})\n",
    "        \n",
    "    return new_dict"
   ]
  },
  {
   "cell_type": "code",
   "execution_count": 43,
   "metadata": {},
   "outputs": [
    {
     "data": {
      "text/plain": [
       "{'hello': 5,\n",
       " 'world': 5,\n",
       " 'this': 4,\n",
       " 'is': 2,\n",
       " 't.raj': 5,\n",
       " 'the': 3,\n",
       " 'destroyer': 9}"
      ]
     },
     "execution_count": 43,
     "metadata": {},
     "output_type": "execute_result"
    }
   ],
   "source": [
    "word_count(\"hello world this is t.raj the destroyer\")"
   ]
  },
  {
   "cell_type": "code",
   "execution_count": 9,
   "metadata": {},
   "outputs": [
    {
     "data": {
      "text/plain": [
       "2"
      ]
     },
     "execution_count": 9,
     "metadata": {},
     "output_type": "execute_result"
    }
   ],
   "source": [
    "word1 = \"Hello world\"\n",
    "\n",
    "list1 = word1.split()\n",
    "len(list1)"
   ]
  },
  {
   "cell_type": "code",
   "execution_count": 60,
   "metadata": {},
   "outputs": [],
   "source": [
    "'''\n",
    "vowel_count(sentence) to return a dictionary with vowels, consonants, others as key and respective number of vowels, \n",
    "consonants, others characters as value.\n",
    "'''\n",
    "\n",
    "def vowel_count(sentence):\n",
    "    \n",
    "    new_dict = {}\n",
    "    \n",
    "    vowels = 'aeiou'\n",
    "    constanants = 'bcdfghjklmnpqrstvwxyz'\n",
    "    \n",
    "    vowelList = list(vowels)\n",
    "    constanantList = list(constanants)\n",
    "    \n",
    "    countV = 0\n",
    "    countC = 0\n",
    "    countO = 0\n",
    "    \n",
    "    sentenceList = list(sentence)\n",
    "    \n",
    "    for eachCharacter in sentenceList:\n",
    "        \n",
    "        if eachCharacter in vowelList:\n",
    "            countV = countV + 1\n",
    "        elif eachCharacter in constanantList:\n",
    "            countC = countC + 1\n",
    "        else:\n",
    "            countO = countO + 1\n",
    "    \n",
    "    new_dict.update({\"constanants\": countC, \"vowels\": countV, \"others\": countO})\n",
    "    \n",
    "    return new_dict\n",
    "    "
   ]
  },
  {
   "cell_type": "code",
   "execution_count": 61,
   "metadata": {},
   "outputs": [
    {
     "data": {
      "text/plain": [
       "{'constanants': 17, 'vowels': 11, 'others': 9}"
      ]
     },
     "execution_count": 61,
     "metadata": {},
     "output_type": "execute_result"
    }
   ],
   "source": [
    "vowel_count(\"I love python and it so easy to learn\")"
   ]
  },
  {
   "cell_type": "code",
   "execution_count": 63,
   "metadata": {},
   "outputs": [],
   "source": [
    "'''\n",
    "Exception Handling in Python Exercises\n",
    "\n",
    "Given a list of numbers, write a Python function to return the list of prime numbers present in it.\n",
    "\n",
    "'''\n",
    "\n",
    "def isPrime(num):\n",
    "    \n",
    "    if num == 1:\n",
    "        return 0\n",
    "    elif num > 1:\n",
    "        for i in range(2,num):\n",
    "            if (num % i) == 0:\n",
    "                return 0\n",
    "                break\n",
    "        else:\n",
    "            return 1\n",
    "\n",
    "def listOfPrimes(numberList):\n",
    "    \n",
    "    finalList = []\n",
    "    \n",
    "    for number in numberList:\n",
    "        \n",
    "        if isPrime(number) == 1:\n",
    "            \n",
    "            finalList.append(number)\n",
    "    \n",
    "    return finalList\n",
    "    "
   ]
  },
  {
   "cell_type": "code",
   "execution_count": 64,
   "metadata": {},
   "outputs": [
    {
     "data": {
      "text/plain": [
       "[2, 3, 5, 7]"
      ]
     },
     "execution_count": 64,
     "metadata": {},
     "output_type": "execute_result"
    }
   ],
   "source": [
    "listOfPrimes([1,2,3,4,5,6,7])"
   ]
  },
  {
   "cell_type": "code",
   "execution_count": 71,
   "metadata": {},
   "outputs": [],
   "source": [
    "'''\n",
    "Write a python function find_common_characters(msg1,msg2) to display all the common characters between two strings. \n",
    "Return -1 if there are no matching characters.\n",
    "'''\n",
    "\n",
    "def find_common_characters(msg1,msg2):\n",
    "    \n",
    "    commonList = []\n",
    "    \n",
    "    list1 = list(msg1)\n",
    "    list2 = list(msg2)\n",
    "    \n",
    "    for element in list1:\n",
    "        \n",
    "        if element in list2:\n",
    "            \n",
    "            commonList.append(element)\n",
    "            \n",
    "    if len(commonList) == 0:\n",
    "        return -1\n",
    "            \n",
    "    return commonList"
   ]
  },
  {
   "cell_type": "code",
   "execution_count": 73,
   "metadata": {},
   "outputs": [
    {
     "data": {
      "text/plain": [
       "['e']"
      ]
     },
     "execution_count": 73,
     "metadata": {},
     "output_type": "execute_result"
    }
   ],
   "source": [
    "find_common_characters(\"hello\",\"bye\")"
   ]
  },
  {
   "cell_type": "code",
   "execution_count": 99,
   "metadata": {},
   "outputs": [],
   "source": [
    "'''\n",
    "Write a python function, find_pairs_of_numbers(num_list,n) which accepts a list of positive integers \n",
    "with no repetitions and returns count of pairs of numbers in the list that adds up to n. \n",
    "The function should return 0, if no such pairs are found in the list.\n",
    "'''\n",
    "\n",
    "def find_pairs_of_numbers(num_list,n):\n",
    "    \n",
    "    pairs = []\n",
    "    count = 0\n",
    "    \n",
    "    for i in num_list:\n",
    "        \n",
    "        for j in num_list:\n",
    "            \n",
    "            if i != j and i + j == n:\n",
    "                \n",
    "                pairs.append([i,j])\n",
    "                count = count + 1\n",
    "                \n",
    "    return pairs \n",
    "                "
   ]
  },
  {
   "cell_type": "code",
   "execution_count": 100,
   "metadata": {},
   "outputs": [
    {
     "data": {
      "text/plain": [
       "[[1, 5], [2, 4], [4, 2], [5, 1], [6, 0], [0, 6]]"
      ]
     },
     "execution_count": 100,
     "metadata": {},
     "output_type": "execute_result"
    }
   ],
   "source": [
    "find_pairs_of_numbers([1, 2, 7, 4, 5, 6, 0, 3],6)"
   ]
  },
  {
   "cell_type": "code",
   "execution_count": 134,
   "metadata": {},
   "outputs": [
    {
     "name": "stdout",
     "output_type": "stream",
     "text": [
      "name error\n",
      "Average marks: None\n"
     ]
    }
   ],
   "source": [
    "def find_average(mark_list):\n",
    "    \n",
    "    total = 0\n",
    "    \n",
    "    try:\n",
    "            \n",
    "        for i in range(0, len(mark_list)+1):\n",
    "            total += mark_list1[i]\n",
    "            marks_avg = total/len(mark_list)\n",
    "        \n",
    "            return marks_avg\n",
    "        \n",
    "    except ValueError:\n",
    "        \n",
    "        print(\"value error\")   \n",
    "    \n",
    "    except NameError:\n",
    "        \n",
    "        print(\"name error\")\n",
    "        \n",
    "    except:\n",
    "        \n",
    "        print(\"some error\")\n",
    "    \n",
    "\n",
    "m_list=[1,2,3,4]\n",
    "print(\"Average marks:\", find_average(m_list))\n"
   ]
  },
  {
   "cell_type": "code",
   "execution_count": 135,
   "metadata": {},
   "outputs": [
    {
     "data": {
      "text/plain": [
       "5"
      ]
     },
     "execution_count": 135,
     "metadata": {},
     "output_type": "execute_result"
    }
   ],
   "source": [
    "int(5.8)"
   ]
  },
  {
   "cell_type": "code",
   "execution_count": 31,
   "metadata": {},
   "outputs": [],
   "source": [
    "def Solution1(input_list):\n",
    "    \n",
    "    output_list = []\n",
    "    \n",
    "    for element in input_list:\n",
    "        \n",
    "        if '-' in element:\n",
    "            \n",
    "            x = element.split('-')\n",
    "            \n",
    "            y = list(x[1])\n",
    "            \n",
    "            for char in y:\n",
    "                \n",
    "                if char in x[0]:\n",
    "                    \n",
    "                    x[0] = x[0].replace(char,\"\")\n",
    "                    \n",
    "            \n",
    "            output_list.append(x[0])\n",
    "            \n",
    "        else:\n",
    "            \n",
    "            output_list.append(element + str(len(element)))\n",
    "            \n",
    "                \n",
    "                \n",
    "    return output_list"
   ]
  },
  {
   "cell_type": "code",
   "execution_count": 32,
   "metadata": {},
   "outputs": [
    {
     "data": {
      "text/plain": [
       "['test', 'member6', '1ab53']"
      ]
     },
     "execution_count": 32,
     "metadata": {},
     "output_type": "execute_result"
    }
   ],
   "source": [
    "Solution1(['abteasbt-ab','member','12ab53-24'])"
   ]
  },
  {
   "cell_type": "code",
   "execution_count": 56,
   "metadata": {},
   "outputs": [],
   "source": [
    "def Solution2(string,k):\n",
    "    \n",
    "        left_output = string[k:] + string[:k]\n",
    "        \n",
    "        \n",
    "        right_output = string[:k] + string[k:]\n",
    "        \n",
    "        print(left_output)\n",
    "        print(right_output)\n",
    "    "
   ]
  },
  {
   "cell_type": "code",
   "execution_count": 59,
   "metadata": {},
   "outputs": [
    {
     "name": "stdout",
     "output_type": "stream",
     "text": [
      "ove pythonI l\n",
      "I love python\n"
     ]
    }
   ],
   "source": [
    "Solution2('I love python',3)"
   ]
  },
  {
   "cell_type": "code",
   "execution_count": 46,
   "metadata": {},
   "outputs": [
    {
     "data": {
      "text/plain": [
       "'h'"
      ]
     },
     "execution_count": 46,
     "metadata": {},
     "output_type": "execute_result"
    }
   ],
   "source": [
    "'hello'[0:1]"
   ]
  },
  {
   "cell_type": "code",
   "execution_count": null,
   "metadata": {},
   "outputs": [],
   "source": []
  }
 ],
 "metadata": {
  "kernelspec": {
   "display_name": "Python 3",
   "language": "python",
   "name": "python3"
  },
  "language_info": {
   "codemirror_mode": {
    "name": "ipython",
    "version": 3
   },
   "file_extension": ".py",
   "mimetype": "text/x-python",
   "name": "python",
   "nbconvert_exporter": "python",
   "pygments_lexer": "ipython3",
   "version": "3.7.3"
  }
 },
 "nbformat": 4,
 "nbformat_minor": 2
}
