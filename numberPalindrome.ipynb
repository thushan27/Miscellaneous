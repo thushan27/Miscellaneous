{
 "cells": [
  {
   "cell_type": "code",
   "execution_count": 7,
   "metadata": {},
   "outputs": [],
   "source": [
    "\"\"\"challenge function adds a number to its reverse, checks if the sum is a palindrome,\n",
    "if so it prints the sum, otherwise it repeats the process using the new sum value. Note the amount of times this\n",
    "process was needed.\"\"\"\n",
    "\n",
    "def numberPalindrome(n):\n",
    "    string = str(n)\n",
    "    n = n + int(string[::-1])\n",
    "    string2 = str(n)\n",
    "    if str(n) == string2[::-1]:\n",
    "        print(str(n))\n",
    "    else:\n",
    "        numberPalindrome(n)"
   ]
  },
  {
   "cell_type": "code",
   "execution_count": 8,
   "metadata": {},
   "outputs": [
    {
     "name": "stdout",
     "output_type": "stream",
     "text": [
      "9339\n"
     ]
    }
   ],
   "source": [
    "numberPalindrome(195)"
   ]
  },
  {
   "cell_type": "code",
   "execution_count": 9,
   "metadata": {},
   "outputs": [
    {
     "name": "stdout",
     "output_type": "stream",
     "text": [
      "363\n"
     ]
    }
   ],
   "source": [
    "numberPalindrome(66)"
   ]
  },
  {
   "cell_type": "code",
   "execution_count": null,
   "metadata": {},
   "outputs": [],
   "source": []
  }
 ],
 "metadata": {
  "kernelspec": {
   "display_name": "Python 3",
   "language": "python",
   "name": "python3"
  },
  "language_info": {
   "codemirror_mode": {
    "name": "ipython",
    "version": 3
   },
   "file_extension": ".py",
   "mimetype": "text/x-python",
   "name": "python",
   "nbconvert_exporter": "python",
   "pygments_lexer": "ipython3",
   "version": "3.7.3"
  }
 },
 "nbformat": 4,
 "nbformat_minor": 2
}
