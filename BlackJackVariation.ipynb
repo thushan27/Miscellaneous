{
 "cells": [
  {
   "cell_type": "code",
   "execution_count": 19,
   "metadata": {},
   "outputs": [],
   "source": [
    "\"\"\"\n",
    "Design a program that can play blackjack with yourself with a slight variation.\n",
    "\n",
    "Variation: Where red cards are subtracted from your score and black cards are added to your score. \n",
    "\n",
    "Rules of this simplified blackjack:\n",
    "\n",
    "Compare the sums of the cards between Dealer vs Player\n",
    "If Player card sum is greater than 21 = BUST (Player loses)\n",
    "If Player card sum is less than 21 = Option Hit (draw a 3rd card) or Stay (keep your current 2 cards)\n",
    "If Player option Stay compare sum of Dealer vs Player\n",
    "If Player sum < 21 && > Dealer sum then Player wins!\n",
    "If Player sum < Dealer sum then Player loses\n",
    "\n",
    "Will generate a pair of random numbers, the first being the value of the card, the second to indicate if the \n",
    "card is red or black.\n",
    "Will create and use function sumCards to help deal with this variation.\n",
    "\n",
    "\"\"\"\n",
    "def blackJack():\n",
    "        # use random package to generate random numbers between 1 and 11, where Ace is represented by 1 or 11, cards\n",
    "        # 2-10 are valued between 2-10 and Jack, Queen, King are represented by a score of 10.\n",
    "        \n",
    "        import random\n",
    "        \n",
    "        # dealing the cards out for the dealer\n",
    "        \n",
    "        dealer_cards = []\n",
    "        while len(dealer_cards) < 2:\n",
    "            dealer_cards.append((random.randint(1,11),random.randint(1,2)))\n",
    "        print(\"Dealer has X & \" + str(dealer_cards[1]))\n",
    "        \n",
    "        # dealing the cards out for the player\n",
    "        \n",
    "        player_cards = []\n",
    "        while len(player_cards) < 2:\n",
    "            player_cards.append((random.randint(1,11),random.randint(1,2)))\n",
    "        print(\"Player has \" + str(player_cards))\n",
    "        \n",
    "        # outcomes if player cards sum less 21\n",
    "        \n",
    "        while sumCard(player_cards) < 21:\n",
    "            action_taken = input(\"Do you want to stay or hit? \")\n",
    "            if action_taken == \"hit\":\n",
    "                player_cards.append((random.randint(1,11),random.randint(1,2)))\n",
    "                print(\"You now have a score of \" + str(sumCard(player_cards)) + \" from \" + str(player_cards))\n",
    "            else:\n",
    "                break\n",
    "                \n",
    "        # Summing player and dealers hand to see who wins or player cards sum greater than 21\n",
    "        \n",
    "        print(\"The dealer has a score of \" + str(sumCard(dealer_cards)) + \" from \" + str(dealer_cards))\n",
    "        print(\"You now have a score of \" + str(sumCard(player_cards)) + \" from \" + str(player_cards))\n",
    "        if (sumCard(dealer_cards)>sumCard(player_cards) & sumCard(dealer_cards)<=21) or sumCard(player_cards)>21:\n",
    "            print(\"Dealer wins\")\n",
    "        else:\n",
    "            print(\"Player wins\")"
   ]
  },
  {
   "cell_type": "code",
   "execution_count": 18,
   "metadata": {},
   "outputs": [],
   "source": [
    " \"\"\"sumCard function helps sum given our variation. 1 represents a red card, 2 represents a black card\"\"\"\n",
    "\n",
    "def sumCard(pairlist):\n",
    "    total = 0 \n",
    "    for pair in pairlist:\n",
    "        if pair[1] == 1:\n",
    "            total = total - int(pair[0])\n",
    "        elif pair[1] == 2:\n",
    "            total = total + int(pair[0])\n",
    "    return total"
   ]
  },
  {
   "cell_type": "code",
   "execution_count": 17,
   "metadata": {},
   "outputs": [
    {
     "name": "stdout",
     "output_type": "stream",
     "text": [
      "Dealer has X & (10, 1)\n",
      "Player has [(2, 1), (4, 2)]\n",
      "Do you want to stay or hit? hit\n",
      "You now have a score of 5 from [(2, 1), (4, 2), (3, 2)]\n",
      "Do you want to stay or hit? hit\n",
      "You now have a score of 8 from [(2, 1), (4, 2), (3, 2), (3, 2)]\n",
      "Do you want to stay or hit? hit\n",
      "You now have a score of 19 from [(2, 1), (4, 2), (3, 2), (3, 2), (11, 2)]\n",
      "Do you want to stay or hit? stay\n",
      "The dealer has a score of -7 from [(3, 2), (10, 1)]\n",
      "You now have a score of 19 from [(2, 1), (4, 2), (3, 2), (3, 2), (11, 2)]\n",
      "Player wins\n"
     ]
    }
   ],
   "source": [
    "blackJack()"
   ]
  }
 ],
 "metadata": {
  "kernelspec": {
   "display_name": "Python 3",
   "language": "python",
   "name": "python3"
  },
  "language_info": {
   "codemirror_mode": {
    "name": "ipython",
    "version": 3
   },
   "file_extension": ".py",
   "mimetype": "text/x-python",
   "name": "python",
   "nbconvert_exporter": "python",
   "pygments_lexer": "ipython3",
   "version": "3.7.3"
  }
 },
 "nbformat": 4,
 "nbformat_minor": 2
}
