{
 "cells": [
  {
   "cell_type": "code",
   "execution_count": 3,
   "metadata": {},
   "outputs": [],
   "source": [
    "\"\"\"Credit card checker: Write a function that for each number in an array, reverse it and find the sum of all \n",
    "odd position digits called A, extract the digits of even position and multiply them by 2 \n",
    "and replace any 2 digit numbers by the sum of their digits called B. Then if the sum of A and B is divisible\n",
    "by 10, return \"Yes\" to confirm the number is a credit card.\"\"\"\n",
    "\n",
    "\"\"\"sumDigits takes an integer and sums the digits that make the integer \n",
    "i.e 27 = 9, 1 = 1, 101 = 2 etc in order to compute A.\"\"\"\n",
    "\n",
    "def sumDigits(n):\n",
    "    count = 0\n",
    "    newNumber = str(n)\n",
    "    for i in newNumber:\n",
    "        count = count + int(i)\n",
    "    return count\n",
    "\n",
    "\"\"\"Function takes a string, multiplies each element by 2 and puts them into array form. Used to compute B.\"\"\"\n",
    "\n",
    "def multiply2(string):\n",
    "    empty = []\n",
    "    \n",
    "    for i in string:\n",
    "        empty.append(2*int(i))\n",
    "    return empty\n",
    "\n",
    "\"\"\"Function takes an array, if any element is greater than or equal to 10, will add up the digits of that number\n",
    "and replace the old number with this. Used to compute B.\"\"\"\n",
    "\n",
    "def elementsGreater10(array):\n",
    "    newArray = []\n",
    "    for element in array:\n",
    "        if element >=10:\n",
    "            element = sumDigits(element)\n",
    "            newArray.append(element)\n",
    "        else:\n",
    "            newArray.append(element)\n",
    "    return newArray\n",
    "\n",
    "def creditCardChecker(array):\n",
    "    \n",
    "    for number in array:\n",
    "        \n",
    "        stringNumber = str(number)\n",
    "        intNumber = int(stringNumber[::-1])\n",
    "        emptyList = []\n",
    "        \n",
    "        A = sumDigits(stringNumber[1::2])        \n",
    "        \n",
    "        B = sum(elementsGreater10(multiply2(stringNumber[0::2])))\n",
    "        \n",
    "        \n",
    "        if (A+B) == 0:\n",
    "            print(\"No\")\n",
    "            \n",
    "        elif (A+B)%10 == 0:\n",
    "            print(\"Yes\")\n",
    "            \n",
    "        else:\n",
    "            print(\"No\") "
   ]
  },
  {
   "cell_type": "code",
   "execution_count": 4,
   "metadata": {},
   "outputs": [
    {
     "name": "stdout",
     "output_type": "stream",
     "text": [
      "No\n",
      "Yes\n",
      "Yes\n"
     ]
    }
   ],
   "source": [
    "creditCardChecker([5, 9795526789839135, 2861747566959730])"
   ]
  },
  {
   "cell_type": "code",
   "execution_count": null,
   "metadata": {},
   "outputs": [],
   "source": []
  }
 ],
 "metadata": {
  "kernelspec": {
   "display_name": "Python 3",
   "language": "python",
   "name": "python3"
  },
  "language_info": {
   "codemirror_mode": {
    "name": "ipython",
    "version": 3
   },
   "file_extension": ".py",
   "mimetype": "text/x-python",
   "name": "python",
   "nbconvert_exporter": "python",
   "pygments_lexer": "ipython3",
   "version": "3.7.3"
  }
 },
 "nbformat": 4,
 "nbformat_minor": 2
}
